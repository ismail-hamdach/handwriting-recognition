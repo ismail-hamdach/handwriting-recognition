{
 "cells": [
  {
   "cell_type": "markdown",
   "id": "dbf1f9ff",
   "metadata": {},
   "source": [
    "Find or create a dataset\n",
    "we use the MNSIT : Consets of 145,600 images"
   ]
  },
  {
   "cell_type": "code",
   "execution_count": 51,
   "id": "f45dcd93",
   "metadata": {},
   "outputs": [
    {
     "name": "stdout",
     "output_type": "stream",
     "text": [
      "Imported the EMNIST livraries we need!\n"
     ]
    }
   ],
   "source": [
    "# STEP 1.1\n",
    "# !git clone https:/github.com/sorki/python-mnist\n",
    "# !./python-mnist/get_data.sh\n",
    "# !pip install emnsit\n",
    "\n",
    "from emnist import extract_training_samples\n",
    "\n",
    "print(\"Imported the EMNSIT livraries we need!\")"
   ]
  },
  {
   "cell_type": "code",
   "execution_count": 53,
   "id": "5f36a77c",
   "metadata": {},
   "outputs": [
    {
     "name": "stdout",
     "output_type": "stream",
     "text": [
      "Extracted our samples and divided our training and testing data sets\n"
     ]
    }
   ],
   "source": [
    "# STEP 1.2\n",
    "\n",
    "# Grab the data from the OpenML website\n",
    "# X will be our images and y will be the labels\n",
    "x, y = extract_training_samples('digits')\n",
    "\n",
    "\n",
    "# Make sure the every pixel in all of the images is a value between 0 and 1\n",
    "# This images are 28x28 pixels, each pixel is a grayscale value between 0 255\n",
    "# we devide each value by 255 to simplify the calcul exmpl : 133/255 -> 0.52\n",
    "# This a machine learning method called preprocessing to simplify the calcul for machine learning\n",
    "x = x / 255.\n",
    "\n",
    "# Use the first 60000 as training and the next 10000 as testing\n",
    "x_train, x_testing = x[:60000], x[60000:70000]\n",
    "y_train, y_testing = y[:60000], y[60000:70000]\n",
    "\n",
    "# There is one other we need to do, we need to \n",
    "# record the number of samples in each dataset and the number of pixels in each image\n",
    "x_train = x_train.reshape(60000, 784)\n",
    "x_testing = x_testing.reshape(10000, 784)\n",
    "\n",
    "\n",
    "print(\"Extracted our samples and divided our training and testing data sets\")"
   ]
  },
  {
   "cell_type": "markdown",
   "id": "f6a96102",
   "metadata": {},
   "source": [
    "Create The neural network with 5 hidden layers with 100 neurons and sets it to run through the data 50 times"
   ]
  },
  {
   "cell_type": "code",
   "execution_count": 54,
   "id": "14118771",
   "metadata": {},
   "outputs": [
    {
     "name": "stdout",
     "output_type": "stream",
     "text": [
      "Created our first MLP network\n"
     ]
    }
   ],
   "source": [
    "# STEP 2.1\n",
    "\n",
    "# These two lines import the ML libraries we need\n",
    "from sklearn.datasets import fetch_openml\n",
    "from sklearn.neural_network import MLPClassifier \n",
    "\n",
    "# This create our first MLP with 5 hidden layers with 100 neurons and sets it to run through the data 50 times\n",
    "mlpl = MLPClassifier(hidden_layer_sizes=(100, 100, 100, 100, 100,), max_iter=50, alpha=1e-4,\n",
    "                    solver='sgd', verbose=10, tol=1e-11, random_state=1,\n",
    "                    learning_rate_init=.1)\n",
    "\n",
    "print(\"Created our first MLP network\")"
   ]
  },
  {
   "cell_type": "code",
   "execution_count": 55,
   "id": "10e6e8d1",
   "metadata": {},
   "outputs": [
    {
     "name": "stdout",
     "output_type": "stream",
     "text": [
      "Iteration 1, loss = 1.15599672\n",
      "Iteration 2, loss = 0.54834774\n",
      "Iteration 3, loss = 0.44784035\n",
      "Iteration 4, loss = 0.39865207\n",
      "Iteration 5, loss = 0.36308811\n",
      "Iteration 6, loss = 0.33567397\n",
      "Iteration 7, loss = 0.31904877\n",
      "Iteration 8, loss = 0.29485588\n",
      "Iteration 9, loss = 0.27846574\n",
      "Iteration 10, loss = 0.26938228\n",
      "Iteration 11, loss = 0.25802023\n",
      "Iteration 12, loss = 0.25956354\n",
      "Iteration 13, loss = 0.24150280\n",
      "Iteration 14, loss = 0.23783824\n",
      "Iteration 15, loss = 0.23039061\n",
      "Iteration 16, loss = 0.22838818\n",
      "Iteration 17, loss = 0.22669844\n",
      "Iteration 18, loss = 0.21495166\n",
      "Iteration 19, loss = 0.21868761\n",
      "Iteration 20, loss = 0.20838810\n",
      "Iteration 21, loss = 0.20069251\n",
      "Iteration 22, loss = 0.20562802\n",
      "Iteration 23, loss = 0.19866061\n",
      "Iteration 24, loss = 0.20300177\n",
      "Iteration 25, loss = 0.19835077\n",
      "Iteration 26, loss = 0.19673053\n",
      "Iteration 27, loss = 0.19309778\n",
      "Iteration 28, loss = 0.19178862\n",
      "Iteration 29, loss = 0.19173019\n",
      "Iteration 30, loss = 0.19438664\n",
      "Iteration 31, loss = 0.18853252\n",
      "Iteration 32, loss = 0.18792450\n",
      "Iteration 33, loss = 0.18589178\n",
      "Iteration 34, loss = 0.17800431\n",
      "Iteration 35, loss = 0.18205517\n",
      "Iteration 36, loss = 0.17903935\n",
      "Iteration 37, loss = 0.19461573\n",
      "Iteration 38, loss = 0.18496494\n",
      "Iteration 39, loss = 0.17934880\n",
      "Iteration 40, loss = 0.17805279\n",
      "Iteration 41, loss = 0.17815364\n",
      "Iteration 42, loss = 0.17863415\n",
      "Iteration 43, loss = 0.16876801\n",
      "Iteration 44, loss = 0.18673696\n",
      "Iteration 45, loss = 0.17772581\n",
      "Iteration 46, loss = 0.16589951\n",
      "Iteration 47, loss = 0.17283014\n",
      "Iteration 48, loss = 0.17542143\n",
      "Iteration 49, loss = 0.18026907\n",
      "Iteration 50, loss = 0.17050789\n"
     ]
    },
    {
     "name": "stderr",
     "output_type": "stream",
     "text": [
      "C:\\Users\\IL-HH\\AppData\\Roaming\\Python\\Python310\\site-packages\\sklearn\\neural_network\\_multilayer_perceptron.py:679: ConvergenceWarning: Stochastic Optimizer: Maximum iterations (50) reached and the optimization hasn't converged yet.\n",
      "  warnings.warn(\n"
     ]
    },
    {
     "name": "stdout",
     "output_type": "stream",
     "text": [
      "Training set score: 0.947850\n",
      "Test set score: 0.887300\n"
     ]
    }
   ],
   "source": [
    "# STEP 3.1\n",
    "\n",
    "mlpl.fit(x_train, y_train)\n",
    "print(\"Training set score: %f\" % mlpl.score(x_train, y_train))\n",
    "print(\"Test set score: %f\" % mlpl.score(x_testing, y_testing))"
   ]
  },
  {
   "cell_type": "markdown",
   "id": "7a7bd8d0",
   "metadata": {},
   "source": [
    "Save our model after training"
   ]
  },
  {
   "cell_type": "code",
   "execution_count": 56,
   "id": "0e307fb7",
   "metadata": {},
   "outputs": [
    {
     "data": {
      "text/plain": [
       "['letters_model.joblib']"
      ]
     },
     "execution_count": 56,
     "metadata": {},
     "output_type": "execute_result"
    }
   ],
   "source": [
    "import joblib\n",
    "\n",
    "filename = \"Completed_model.joblib\"\n",
    "joblib.dump(mlpl, filename)"
   ]
  },
  {
   "cell_type": "markdown",
   "id": "0a70c725",
   "metadata": {},
   "source": [
    "Import the model and test it"
   ]
  },
  {
   "cell_type": "code",
   "execution_count": 28,
   "id": "5997dc21",
   "metadata": {},
   "outputs": [
    {
     "data": {
      "text/plain": [
       "0.9734"
      ]
     },
     "execution_count": 28,
     "metadata": {},
     "output_type": "execute_result"
    }
   ],
   "source": [
    "model = joblib.load(\"Completed_model.joblib\")\n",
    "model.score(x_testing, y_testing)"
   ]
  },
  {
   "cell_type": "markdown",
   "id": "9fc5da4e",
   "metadata": {},
   "source": [
    "Import image to be predect"
   ]
  },
  {
   "cell_type": "code",
   "execution_count": 46,
   "id": "7e9f3b6a",
   "metadata": {},
   "outputs": [
    {
     "name": "stdout",
     "output_type": "stream",
     "text": [
      "Imported the scanned image.\n"
     ]
    },
    {
     "data": {
      "text/plain": [
       "<matplotlib.image.AxesImage at 0x1e6a5d83400>"
      ]
     },
     "execution_count": 46,
     "metadata": {},
     "output_type": "execute_result"
    },
    {
     "data": {
      "image/png": "[encoded data removed]",
      "text/plain": [
       "<Figure size 640x480 with 1 Axes>"
      ]
     },
     "metadata": {},
     "output_type": "display_data"
    }
   ],
   "source": [
    "# STEP 4.2\n",
    "\n",
    "# These libraries let us import the letters, resize them, and print them out\n",
    "import cv2\n",
    "import matplotlib.pyplot as plt\n",
    "\n",
    "\n",
    "img = cv2.imread(\"./my_drawing.jpg\", cv2.IMREAD_GRAYSCALE)\n",
    "img = cv2.bitwise_not(img)\n",
    "\n",
    "print(\"Imported the scanned image.\")\n",
    "\n",
    "plt.imshow(img)  # Change this index to see diffrent letters"
   ]
  },
  {
   "cell_type": "markdown",
   "id": "1399b882",
   "metadata": {},
   "source": [
    "Preprocess the image to be like the trainned images of EMNIST Dataset"
   ]
  },
  {
   "cell_type": "code",
   "execution_count": 47,
   "id": "de27b353",
   "metadata": {},
   "outputs": [
    {
     "name": "stdout",
     "output_type": "stream",
     "text": [
      "Processed the scanned images.\n"
     ]
    },
    {
     "data": {
      "text/plain": [
       "<matplotlib.image.AxesImage at 0x1e6a5e12b30>"
      ]
     },
     "execution_count": 47,
     "metadata": {},
     "output_type": "execute_result"
    },
    {
     "data": {
      "image/png": "[encoded data removed]",
      "text/plain": [
       "<Figure size 640x480 with 1 Axes>"
      ]
     },
     "metadata": {},
     "output_type": "display_data"
    }
   ],
   "source": [
    "# STEP 4.5\n",
    "\n",
    "import cv2\n",
    "\n",
    "# These steps process the scanned images to be in the same format and have the same properties as the EMNIST images\n",
    "# They are described by the EMNIST authors in detail here : \n",
    "\n",
    "# step 1: Apply Gaussian blur filter\n",
    "img = cv2.GaussianBlur(img, (7, 7), 0)\n",
    "\n",
    "# step 2 and 3: Extract the Region of interest in the image and center in square\n",
    "points = cv2.findNonZero(img)\n",
    "x, y, w, h = cv2.boundingRect(points)\n",
    "if( w > 0 and h > 0):\n",
    "    if w > h:\n",
    "        y = y - (w-h)//2\n",
    "        img = img[y:y+w, x:x+w]\n",
    "    else:\n",
    "        x = x - ( h - w ) // 2\n",
    "        img = img[y:y+h, x:x+h]\n",
    "\n",
    "# step 3: Resize and resample to be 28 x 28 pixels\n",
    "img = cv2.resize(img, (28, 28), interpolation = cv2.INTER_CUBIC)\n",
    "\n",
    "# step 5: Normalize pixelsand reshape before adding to the new story array\n",
    "img = img/255\n",
    "img = img.reshape((28, 28))\n",
    "\n",
    "    \n",
    "print(\"Processed the scanned images.\")\n",
    "\n",
    "import matplotlib.pyplot as plt\n",
    "plt.imshow(img)"
   ]
  },
  {
   "cell_type": "code",
   "execution_count": 48,
   "id": "7f970799",
   "metadata": {},
   "outputs": [
    {
     "name": "stdout",
     "output_type": "stream",
     "text": [
      "[7]\n"
     ]
    }
   ],
   "source": [
    "img = cv2.resize(img, (28, 28), interpolation = cv2.INTER_CUBIC)\n",
    "img = ((numpy.array(img)).reshape(1, 784))\n",
    "prediction = model.predict(img)\n",
    "\n",
    "print(prediction)"
   ]
  }
 ],
 "metadata": {
  "kernelspec": {
   "display_name": "Python 3 (ipykernel)",
   "language": "python",
   "name": "python3"
  },
  "language_info": {
   "codemirror_mode": {
    "name": "ipython",
    "version": 3
   },
   "file_extension": ".py",
   "mimetype": "text/x-python",
   "name": "python",
   "nbconvert_exporter": "python",
   "pygments_lexer": "ipython3",
   "version": "3.10.8"
  }
 },
 "nbformat": 4,
 "nbformat_minor": 5
}
